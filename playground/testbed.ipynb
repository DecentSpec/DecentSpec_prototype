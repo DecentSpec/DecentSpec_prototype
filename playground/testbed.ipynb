{
 "metadata": {
  "language_info": {
   "codemirror_mode": {
    "name": "ipython",
    "version": 3
   },
   "file_extension": ".py",
   "mimetype": "text/x-python",
   "name": "python",
   "nbconvert_exporter": "python",
   "pygments_lexer": "ipython3",
   "version": "3.8.10"
  },
  "orig_nbformat": 4,
  "kernelspec": {
   "name": "python3",
   "display_name": "Python 3.8.10 64-bit"
  },
  "interpreter": {
   "hash": "916dbcbb3f70747c44a77c7bcd40155683ae19c65e1c03b4aa3499c5328201f1"
  }
 },
 "nbformat": 4,
 "nbformat_minor": 2,
 "cells": [
  {
   "cell_type": "code",
   "execution_count": 1,
   "metadata": {},
   "outputs": [],
   "source": [
    "\n",
    "import torch.nn as nn\n",
    "import torch.nn.functional as F\n",
    "\n",
    "# NUM_NEU = 2\n",
    "NUM_NEU = 50\n",
    "\n",
    "class SharedModel(nn.Module):\n",
    "\n",
    "    # parameter-related operation is defined in init as nn\n",
    "    def __init__(self, nlist):\n",
    "        super(SharedModel, self).__init__()\n",
    "        # input of network is a 2-dimensional feature(latitude, longitude)\n",
    "        self.hidden = nn.ModuleList()\n",
    "        self.hidden_size = len(nlist) - 2\n",
    "        for i in range(self.hidden_size):\n",
    "            self.hidden.append(nn.Linear(nlist[i], nlist[i+1]))\n",
    "        self.ol = nn.Linear(nlist[-2],nlist[-1])   # outputlayer\n",
    "    \n",
    "    # parameter-irrelative operation is recommended as function\n",
    "    def forward(self, x): # input x is the 2-dimensional spatial coordinates\n",
    "        for i in range(self.hidden_size):\n",
    "            x = F.relu(self.hidden[i](x))\n",
    "        x = self.ol(x)\n",
    "        return x"
   ]
  },
  {
   "cell_type": "code",
   "execution_count": 2,
   "metadata": {},
   "outputs": [],
   "source": [
    "a = SharedModel([2,5,5,1])\n"
   ]
  },
  {
   "cell_type": "code",
   "execution_count": 3,
   "metadata": {},
   "outputs": [
    {
     "output_type": "execute_result",
     "data": {
      "text/plain": [
       "OrderedDict([('hidden.0.weight',\n",
       "              tensor([[ 0.6956, -0.0825],\n",
       "                      [-0.6684,  0.3141],\n",
       "                      [ 0.2535, -0.5232],\n",
       "                      [-0.4845, -0.6444],\n",
       "                      [ 0.0763, -0.6695]])),\n",
       "             ('hidden.0.bias',\n",
       "              tensor([ 0.5952, -0.2872,  0.2569,  0.1323, -0.0401])),\n",
       "             ('hidden.1.weight',\n",
       "              tensor([[-0.2626,  0.0006,  0.4181,  0.3660,  0.3866],\n",
       "                      [-0.0441,  0.0888,  0.1337,  0.3323,  0.3980],\n",
       "                      [ 0.3814,  0.4134, -0.2573, -0.3117,  0.1556],\n",
       "                      [ 0.1248, -0.2768,  0.0807,  0.3789,  0.4125],\n",
       "                      [ 0.0110, -0.2668,  0.3133,  0.3926, -0.1802]])),\n",
       "             ('hidden.1.bias',\n",
       "              tensor([-0.2202, -0.1003,  0.0391, -0.2574,  0.0120])),\n",
       "             ('ol.weight',\n",
       "              tensor([[ 0.0080, -0.3974, -0.3341,  0.4001, -0.2792]])),\n",
       "             ('ol.bias', tensor([0.2097]))])"
      ]
     },
     "metadata": {},
     "execution_count": 3
    }
   ],
   "source": [
    "a.state_dict()"
   ]
  },
  {
   "cell_type": "code",
   "execution_count": 4,
   "metadata": {},
   "outputs": [],
   "source": [
    "b = SharedModel([2,5,5,5,1])"
   ]
  },
  {
   "cell_type": "code",
   "execution_count": 5,
   "metadata": {},
   "outputs": [
    {
     "output_type": "execute_result",
     "data": {
      "text/plain": [
       "OrderedDict([('hidden.0.weight',\n",
       "              tensor([[ 0.2308, -0.1549],\n",
       "                      [-0.1178,  0.0461],\n",
       "                      [ 0.3983, -0.6221],\n",
       "                      [ 0.6566,  0.7038],\n",
       "                      [ 0.6153,  0.5666]])),\n",
       "             ('hidden.0.bias',\n",
       "              tensor([-0.2137,  0.5834, -0.0927,  0.4404, -0.4194])),\n",
       "             ('hidden.1.weight',\n",
       "              tensor([[ 0.1900, -0.3686, -0.4102,  0.1153, -0.0254],\n",
       "                      [ 0.1498, -0.0498,  0.0422, -0.1464, -0.1651],\n",
       "                      [ 0.2948,  0.3458, -0.0465, -0.0508,  0.1232],\n",
       "                      [-0.1153, -0.1550,  0.3032, -0.2307, -0.4321],\n",
       "                      [-0.1507,  0.1387, -0.4251,  0.1420, -0.0923]])),\n",
       "             ('hidden.1.bias',\n",
       "              tensor([-0.0880,  0.1184, -0.3258,  0.2974,  0.0580])),\n",
       "             ('hidden.2.weight',\n",
       "              tensor([[ 0.0849,  0.0292,  0.2311,  0.3045,  0.0752],\n",
       "                      [-0.3016,  0.1813, -0.0735, -0.1794, -0.4165],\n",
       "                      [-0.3137, -0.3373,  0.0150,  0.1296,  0.2644],\n",
       "                      [-0.3654,  0.1507, -0.1770,  0.0332,  0.1834],\n",
       "                      [-0.3357, -0.2448,  0.3113,  0.3384,  0.0564]])),\n",
       "             ('hidden.2.bias',\n",
       "              tensor([-0.4347,  0.4365, -0.1952, -0.3493, -0.1392])),\n",
       "             ('ol.weight',\n",
       "              tensor([[ 0.3629, -0.0958, -0.3931, -0.0782,  0.2844]])),\n",
       "             ('ol.bias', tensor([0.1608]))])"
      ]
     },
     "metadata": {},
     "execution_count": 5
    }
   ],
   "source": [
    "b.state_dict()"
   ]
  },
  {
   "cell_type": "code",
   "execution_count": null,
   "metadata": {},
   "outputs": [],
   "source": []
  }
 ]
}